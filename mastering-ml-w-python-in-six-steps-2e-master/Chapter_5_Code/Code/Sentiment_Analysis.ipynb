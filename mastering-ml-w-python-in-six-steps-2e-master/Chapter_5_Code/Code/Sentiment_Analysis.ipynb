{
 "cells": [
  {
   "cell_type": "markdown",
   "metadata": {},
   "source": [
    "### Sentiment Analysis\n",
    "\n",
    "The procedure of discovering and classifying opinions expressed in a piece of text (like comments/feedback text) is called the sentiment analysis. The intended output of this analysis would be to determine whether the writer’s mind-set towards a topic, product, service etc. is neutral, positive or negative."
   ]
  },
  {
   "cell_type": "code",
   "execution_count": 1,
   "metadata": {},
   "outputs": [],
   "source": [
    "import pandas as pd\n",
    "from nltk.sentiment.vader import SentimentIntensityAnalyzer\n",
    "from nltk.sentiment.util import *\n",
    "import matplotlib.pyplot as plt"
   ]
  },
  {
   "cell_type": "markdown",
   "metadata": {},
   "source": [
    "### Load Data"
   ]
  },
  {
   "cell_type": "code",
   "execution_count": 2,
   "metadata": {},
   "outputs": [
    {
     "data": {
      "text/html": [
       "<div>\n",
       "<style scoped>\n",
       "    .dataframe tbody tr th:only-of-type {\n",
       "        vertical-align: middle;\n",
       "    }\n",
       "\n",
       "    .dataframe tbody tr th {\n",
       "        vertical-align: top;\n",
       "    }\n",
       "\n",
       "    .dataframe thead th {\n",
       "        text-align: right;\n",
       "    }\n",
       "</style>\n",
       "<table border=\"1\" class=\"dataframe\">\n",
       "  <thead>\n",
       "    <tr style=\"text-align: right;\">\n",
       "      <th></th>\n",
       "      <th>ID</th>\n",
       "      <th>Review</th>\n",
       "    </tr>\n",
       "  </thead>\n",
       "  <tbody>\n",
       "    <tr>\n",
       "      <th>0</th>\n",
       "      <td>1</td>\n",
       "      <td>Excellent service my claim was dealt with very...</td>\n",
       "    </tr>\n",
       "    <tr>\n",
       "      <th>1</th>\n",
       "      <td>2</td>\n",
       "      <td>Very sympathetically dealt within all aspects ...</td>\n",
       "    </tr>\n",
       "    <tr>\n",
       "      <th>2</th>\n",
       "      <td>3</td>\n",
       "      <td>Having received yet another ludicrous quote fr...</td>\n",
       "    </tr>\n",
       "    <tr>\n",
       "      <th>3</th>\n",
       "      <td>4</td>\n",
       "      <td>Very prompt and fair handling of claim. A mino...</td>\n",
       "    </tr>\n",
       "    <tr>\n",
       "      <th>4</th>\n",
       "      <td>5</td>\n",
       "      <td>Very good and excellent value for money simple...</td>\n",
       "    </tr>\n",
       "  </tbody>\n",
       "</table>\n",
       "</div>"
      ],
      "text/plain": [
       "   ID                                             Review\n",
       "0   1  Excellent service my claim was dealt with very...\n",
       "1   2  Very sympathetically dealt within all aspects ...\n",
       "2   3  Having received yet another ludicrous quote fr...\n",
       "3   4  Very prompt and fair handling of claim. A mino...\n",
       "4   5  Very good and excellent value for money simple..."
      ]
     },
     "execution_count": 2,
     "metadata": {},
     "output_type": "execute_result"
    }
   ],
   "source": [
    "data = pd.read_csv('Data/customer_review.csv')\n",
    "data.head(5)"
   ]
  },
  {
   "cell_type": "code",
   "execution_count": 3,
   "metadata": {},
   "outputs": [
    {
     "name": "stdout",
     "output_type": "stream",
     "text": [
      "   ID                                             Review  polarity_score  \\\n",
      "0   1  Excellent service my claim was dealt with very...          0.7346   \n",
      "1   2  Very sympathetically dealt within all aspects ...         -0.8155   \n",
      "2   3  Having received yet another ludicrous quote fr...          0.9785   \n",
      "3   4  Very prompt and fair handling of claim. A mino...          0.1440   \n",
      "4   5  Very good and excellent value for money simple...          0.8610   \n",
      "\n",
      "   neutral_score  negative_score  positive_score sentiment  \n",
      "0          0.618           0.000           0.382  POSITIVE  \n",
      "1          0.680           0.320           0.000  NEGATIVE  \n",
      "2          0.711           0.039           0.251  POSITIVE  \n",
      "3          0.651           0.135           0.214  POSITIVE  \n",
      "4          0.485           0.000           0.515  POSITIVE  \n"
     ]
    }
   ],
   "source": [
    "SIA = SentimentIntensityAnalyzer()\n",
    "\n",
    "data['polarity_score']=data.Review.apply(lambda x:SIA.polarity_scores(x)['compound'])\n",
    "data['neutral_score']=data.Review.apply(lambda x:SIA.polarity_scores(x)['neu'])\n",
    "data['negative_score']=data.Review.apply(lambda x:SIA.polarity_scores(x)['neg'])\n",
    "data['positive_score']=data.Review.apply(lambda x:SIA.polarity_scores(x)['pos'])\n",
    "data['sentiment']=''\n",
    "data.loc[data.polarity_score>0,'sentiment']='POSITIVE'\n",
    "data.loc[data.polarity_score==0,'sentiment']='NEUTRAL'\n",
    "data.loc[data.polarity_score<0,'sentiment']='NEGATIVE'\n",
    "print (data.head())"
   ]
  },
  {
   "cell_type": "code",
   "execution_count": 4,
   "metadata": {},
   "outputs": [
    {
     "data": {
      "image/png": "[encoded data removed]",
      "text/plain": [
       "<Figure size 432x288 with 1 Axes>"
      ]
     },
     "metadata": {
      "needs_background": "light"
     },
     "output_type": "display_data"
    }
   ],
   "source": [
    "data.sentiment.value_counts().plot(kind='bar',title=\"sentiment analysis\")\n",
    "plt.show()"
   ]
  }
 ],
 "metadata": {
  "anaconda-cloud": {},
  "kernelspec": {
   "display_name": "Python 3",
   "language": "python",
   "name": "python3"
  },
  "language_info": {
   "codemirror_mode": {
    "name": "ipython",
    "version": 3
   },
   "file_extension": ".py",
   "mimetype": "text/x-python",
   "name": "python",
   "nbconvert_exporter": "python",
   "pygments_lexer": "ipython3",
   "version": "3.7.1"
  }
 },
 "nbformat": 4,
 "nbformat_minor": 1
}
