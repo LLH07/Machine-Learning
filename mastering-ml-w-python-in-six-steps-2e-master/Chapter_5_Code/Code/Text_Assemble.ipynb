{
 "cells": [
  {
   "cell_type": "markdown",
   "metadata": {},
   "source": [
    "# Text Assemble\n",
    "\n",
    "It is observed that 70% of data available to any businesses is unstructured. The first step is collating unstructured data from different sources such as open-ended feedback, phone calls, email support, online chat and social media networks like Twitter, LinkedIn and Facebook. Assembling these data and applying mining/machine learning techniques to analyze them provides valuable opportunities for organizations to build more power into customer experience. \n",
    "There are several libraries available for extracting text content from different formats discussed above. By far the best library that provides simple and single interface for multiple formats is ‘textract’ (open source MIT license). Note that as of now this library/package is available for Linux, Mac OS and not Windows. Below is a list of supported formats."
   ]
  },
  {
   "cell_type": "markdown",
   "metadata": {},
   "source": [
    "### Reading from PDF"
   ]
  },
  {
   "cell_type": "code",
   "execution_count": 1,
   "metadata": {},
   "outputs": [],
   "source": [
    "import textract\n",
    "\n",
    "# Extracting from normal pdf\n",
    "text = textract.process('Data/pdf/raw_text.pdf', language='eng')\n",
    "\n",
    "# Extrcting from two columned pdf\n",
    "text = textract.process('Data/pdf/two_column.pdf', language='eng')\n",
    "\n",
    "# Extracting from scanned text pdf\n",
    "text = textract.process('Data/pdf/ocr_text.pdf', method='tesseract', language='eng')"
   ]
  },
  {
   "cell_type": "markdown",
   "metadata": {},
   "source": [
    "### Reading from JPG"
   ]
  },
  {
   "cell_type": "code",
   "execution_count": 2,
   "metadata": {},
   "outputs": [
    {
     "name": "stdout",
     "output_type": "stream",
     "text": [
      "b'EAS TEST\\n\\nTHIS IS A TEST OF THE NATIONAL\\nEMERGENCY ALERT SYSTEM\\n\\nTHERE IS NO ACTUAL EMERGENCY\\n\\x0c'\n"
     ]
    }
   ],
   "source": [
    "# Extracting from jpg\n",
    "text = textract.process('Data/jpg/raw_text.jpg', method='tesseract', language='eng')\n",
    "print (text)"
   ]
  },
  {
   "cell_type": "markdown",
   "metadata": {},
   "source": [
    "### Extracting from audio file"
   ]
  },
  {
   "cell_type": "code",
   "execution_count": 3,
   "metadata": {},
   "outputs": [
    {
     "name": "stdout",
     "output_type": "stream",
     "text": [
      "raw_text.wav:  b'everything is awesome\\n'\n",
      "standardized_text.wav:  b'a quick brown fox jumps over the lazy dog\\n'\n"
     ]
    }
   ],
   "source": [
    "text = textract.process('Data/wav/raw_text.wav', language='eng')\n",
    "print (\"raw_text.wav: \", text)\n",
    "\n",
    "text = textract.process('Data/wav/standardized_text.wav', language='eng')\n",
    "print (\"standardized_text.wav: \", text)"
   ]
  },
  {
   "cell_type": "markdown",
   "metadata": {},
   "source": [
    "### Twitter \n",
    "\n",
    "Twitter is a online news and social networking service provider and there are 320 million twitter users with an average of 42 million active twitters every day! (as of 2016, source smartinsights). It is a great source to understand what users are talking about a chosen topic.\n",
    "\n",
    "#### API access token\n",
    "\n",
    "- Goto https://apps.twitter.com/\n",
    "- Click on 'Create New App'\n",
    "- Fill the required information and click on 'Create your Twitter Application'\n",
    "- You'll get the access details under 'Keys and Access Tokens' tab"
   ]
  },
  {
   "cell_type": "code",
   "execution_count": 4,
   "metadata": {},
   "outputs": [
    {
     "data": {
      "image/png": "[encoded data removed]",
      "text/plain": [
       "<IPython.core.display.Image object>"
      ]
     },
     "execution_count": 4,
     "metadata": {
      "image/png": {
       "width": 900
      }
     },
     "output_type": "execute_result"
    }
   ],
   "source": [
    "from IPython.display import Image\n",
    "Image(filename='../Chapter 5 Figures/Fetch_Twitter_Data.png', width=900)"
   ]
  },
  {
   "cell_type": "code",
   "execution_count": 5,
   "metadata": {},
   "outputs": [],
   "source": [
    "#Import the necessary methods from tweepy library\n",
    "import tweepy\n",
    "from tweepy.streaming import StreamListener\n",
    "from tweepy import OAuthHandler\n",
    "from tweepy import Stream\n",
    "\n",
    "import pandas as pd"
   ]
  },
  {
   "cell_type": "code",
   "execution_count": 6,
   "metadata": {},
   "outputs": [],
   "source": [
    "#provide your access details below \n",
    "access_token = \"2345619938-HM3m1sqYnDJSD73QckzGcGr4iiH2ZM8jNa5bdxt\"\n",
    "access_token_secret = \"SUOHZrbNyr51grEMIb4oCdttYd9CZhyhDVAgHG8HBqSq7\"\n",
    "consumer_key = \"f8FVZR9I59L8X65A8FRy7UqYn\"\n",
    "consumer_secret = \"yWeHgwqzRmzjPVcrMhdnS9PxddWz5Oqpoppktk4A6Q5y7ZpGB6\"\n",
    "\n",
    "# establish a connection\n",
    "auth = tweepy.auth.OAuthHandler(consumer_key, consumer_secret)\n",
    "auth.set_access_token(access_token, access_token_secret)\n",
    "\n",
    "api = tweepy.API(auth)"
   ]
  },
  {
   "cell_type": "markdown",
   "metadata": {},
   "source": [
    "Let's assume that you would like to understand what is being talking about the iPhone 7 and its camera feature. So let's pull the recent 10 posts.\n",
    "\n",
    "Note: You can pull historic user posts about a topic for a max of 10 to 15 days only depending on the volume of the posts."
   ]
  },
  {
   "cell_type": "code",
   "execution_count": 7,
   "metadata": {},
   "outputs": [
    {
     "name": "stdout",
     "output_type": "stream",
     "text": [
      "Number of tweets:  7\n"
     ]
    }
   ],
   "source": [
    "#fetch recent 10 tweets containing words iphone7 camera\n",
    "fetched_tweets = api.search(q=['iPhone X','iPhoneX','camera'], result_type='recent', lang='en', count=10)\n",
    "print (\"Number of tweets: \", len(fetched_tweets))"
   ]
  },
  {
   "cell_type": "code",
   "execution_count": 8,
   "metadata": {},
   "outputs": [
    {
     "name": "stdout",
     "output_type": "stream",
     "text": [
      "Tweet ID:  1103941362490081280\n",
      "Tweet Text:  If you want to get the most out of your #iPhoneX camera, check out our roundup of great iPhone X camera… https://t.co/APj7dV940L \n",
      "\n",
      "Tweet ID:  1102897933744332802\n",
      "Tweet Text:  \"However, this time I wasn't carrying my laptop, iPad, camera, lenses etc, instead I had set myself the challenge t… https://t.co/HjqN8PEkeH \n",
      "\n",
      "Tweet ID:  1102651287127101440\n",
      "Tweet Text:  Get The New iPhone X! -&gt; https://t.co/Sh3c6xWg2g #iPhone #iPhoneX #apple #facerecognition #movies #pictures #camera… https://t.co/nslngKFPWM \n",
      "\n",
      "Tweet ID:  1102282188383383552\n",
      "Tweet Text:  Need a new phone?\n",
      "\n",
      "Check out this deal! \n",
      "\n",
      "Refurbished 64gb iPhone X for $599\n",
      "\n",
      "https://t.co/GTj59VUn3o\n",
      "\n",
      "#iPhone… https://t.co/akj7tProlR \n",
      "\n",
      "Tweet ID:  1102113674255351808\n",
      "Tweet Text:  RT @TheTechChap: Which has the best Camera? Samsung Galaxy S9 vs iPhone X Camera Review! #GalaxyS9 #iPhoneX #galaxys9camera #s9 https://t.c… \n",
      "\n",
      "Tweet ID:  1101946196745084928\n",
      "Tweet Text:  After experiencing the amazingness of @cynthiaescobra camera, I now really want an iPhone X 😫\n",
      "#iPhoneX \n",
      "\n",
      "Tweet ID:  1101539495600685057\n",
      "Tweet Text:  @iMasenkOG @DBZenkai_ ik for sure that android battery life is way better now im comparing the iPhonex and s9 the c… https://t.co/GiJYy7xVas \n",
      "\n"
     ]
    }
   ],
   "source": [
    "# Print the tweet text\n",
    "for tweet in fetched_tweets:\n",
    "    print ('Tweet ID: ', tweet.id)\n",
    "    print ('Tweet Text: ', tweet.text, '\\n')"
   ]
  },
  {
   "cell_type": "markdown",
   "metadata": {},
   "source": [
    "You can capture useful features onto a dataframe for further analysis if required."
   ]
  },
  {
   "cell_type": "code",
   "execution_count": 9,
   "metadata": {},
   "outputs": [
    {
     "name": "stdout",
     "output_type": "stream",
     "text": [
      "                    id                                               text  \\\n",
      "0  1103941362490081280  If you want to get the most out of your #iPhon...   \n",
      "1  1102897933744332802  \"However, this time I wasn't carrying my lapto...   \n",
      "2  1102651287127101440  Get The New iPhone X! -&gt; https://t.co/Sh3c6...   \n",
      "3  1102282188383383552  Need a new phone?\\n\\nCheck out this deal! \\n\\n...   \n",
      "4  1102113674255351808  RT @TheTechChap: Which has the best Camera? Sa...   \n",
      "5  1101946196745084928  After experiencing the amazingness of @cynthia...   \n",
      "6  1101539495600685057  @iMasenkOG @DBZenkai_ ik for sure that android...   \n",
      "\n",
      "   retweeted                   place      screen_name  verified_user  \\\n",
      "0      False   Ahmadabad City, India       igeeksblog          False   \n",
      "1      False  West Midlands, England  Luvandlifestyle          False   \n",
      "2      False                            dealdetectors          False   \n",
      "3      False                              _Broke_Boys          False   \n",
      "4      False                           ChristTKSmith1          False   \n",
      "5      False           Kennedale, TX      MizherSarah          False   \n",
      "6      False           Baltimore, MD   eastsidegoatSR          False   \n",
      "\n",
      "   followers_count  friends_count  friendship_coeff  \n",
      "0             7411             40        185.275000  \n",
      "1             4054           1110          3.652252  \n",
      "2              911           1135          0.802643  \n",
      "3                4              1          4.000000  \n",
      "4               11             60          0.183333  \n",
      "5               94            114          0.824561  \n",
      "6               66            192          0.343750  \n"
     ]
    }
   ],
   "source": [
    "# function to save required basic tweets info to a dataframe\n",
    "def populate_tweet_df(tweets):\n",
    "    #Create an empty dataframe\n",
    "    df = pd.DataFrame() \n",
    "    \n",
    "    df['id'] = list(map(lambda tweet: tweet.id, tweets))\n",
    "    df['text'] = list(map(lambda tweet: tweet.text, tweets))\n",
    "    df['retweeted'] = list(map(lambda tweet: tweet.retweeted, tweets))\n",
    "    df['place'] = list(map(lambda tweet: tweet.user.location, tweets))\n",
    "    df['screen_name'] = list(map(lambda tweet: tweet.user.screen_name, tweets))\n",
    "    df['verified_user'] = list(map(lambda tweet: tweet.user.verified, tweets))\n",
    "    df['followers_count'] = list(map(lambda tweet: tweet.user.followers_count, tweets))\n",
    "    df['friends_count'] = list(map(lambda tweet: tweet.user.friends_count, tweets))\n",
    "    \n",
    "    # Highly popular user's tweet could possibly seen by large audience, so lets check the popularity of user\n",
    "    df['friendship_coeff'] = list(map(lambda tweet: float(tweet.user.followers_count)/float(tweet.user.friends_count), tweets))\n",
    "    return df\n",
    "\n",
    "df = populate_tweet_df(fetched_tweets) \n",
    "print (df.head(10))"
   ]
  },
  {
   "cell_type": "markdown",
   "metadata": {},
   "source": [
    "Instead of a topic you can also choose a screen_name focused on a topic, let's look at the posts by the screen name Iphone7review. "
   ]
  },
  {
   "cell_type": "code",
   "execution_count": 10,
   "metadata": {},
   "outputs": [
    {
     "name": "stdout",
     "output_type": "stream",
     "text": [
      "Tweet ID:  636645153332195328\n",
      "Tweet Text:  Leaked iPhone 8 Design http://t.co/MCoY6Fb7Cd \n",
      "\n",
      "Tweet ID:  636642449243377664\n",
      "Tweet Text:  RT @UberFacts: Apple has a \"secret police\" called the Worldwide Loyalty Team that makes sure no employees leak something. \n",
      "\n"
     ]
    }
   ],
   "source": [
    "# For help about api look here http://tweepy.readthedocs.org/en/v2.3.0/api.html\n",
    "fetched_tweets =  api.user_timeline(id='Iphone8review', count=5)\n",
    "\n",
    "# Print the tweet text\n",
    "for tweet in fetched_tweets:\n",
    "    print ('Tweet ID: ', tweet.id)\n",
    "    print ('Tweet Text: ', tweet.text, '\\n')"
   ]
  },
  {
   "cell_type": "markdown",
   "metadata": {},
   "source": [
    "Glancing through the posts quickly can generally conclude that there is positive comments about camera feature of iPhone 7."
   ]
  }
 ],
 "metadata": {
  "anaconda-cloud": {},
  "kernelspec": {
   "display_name": "Python 3",
   "language": "python",
   "name": "python3"
  },
  "language_info": {
   "codemirror_mode": {
    "name": "ipython",
    "version": 3
   },
   "file_extension": ".py",
   "mimetype": "text/x-python",
   "name": "python",
   "nbconvert_exporter": "python",
   "pygments_lexer": "ipython3",
   "version": "3.7.1"
  }
 },
 "nbformat": 4,
 "nbformat_minor": 1
}
