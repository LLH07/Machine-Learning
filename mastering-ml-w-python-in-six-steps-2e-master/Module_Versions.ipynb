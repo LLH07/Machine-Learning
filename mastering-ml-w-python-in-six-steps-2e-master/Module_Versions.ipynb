{
 "cells": [
  {
   "cell_type": "markdown",
   "metadata": {},
   "source": [
    "## Code Reproducibility\n",
    "\n",
    "Codes can break with change is package/module version, so for reproducibility I have shared my package version numbers.\n",
    "\n",
    "### My package versions\n",
    "\n",
    "* numpy:  1.15.4\n",
    "* pandas:  0.23.4\n",
    "* matplotlib:  3.0.2\n",
    "* IPython:  7.2.0\n",
    "* sklearn:  0.20.1\n",
    "* scipy:  1.1.0\n",
    "* pydot:  1.3.0\n",
    "* statsmodels:  0.9.0\n",
    "* patsy:  0.5.1\n",
    "* seaborn:  0.9.0\n",
    "* mlxtend:  0.15.0.0\n",
    "* imblearn:  0.4.3\n",
    "* nltk:  3.4\n",
    "* tweepy:  3.7.0\n",
    "* gensim:  3.4.0\n",
    "* keras:  2.2.4\n",
    "* tensorflow:  1.13.1\n",
    "* theano:  1.0.4"
   ]
  },
  {
   "cell_type": "code",
   "execution_count": 1,
   "metadata": {},
   "outputs": [
    {
     "name": "stdout",
     "output_type": "stream",
     "text": [
      "numpy:  1.15.4\n",
      "pandas:  0.23.4\n",
      "matplotlib:  3.0.2\n",
      "IPython:  7.2.0\n",
      "sklearn:  0.20.1\n",
      "scipy:  1.1.0\n",
      "pydot:  1.3.0\n",
      "statsmodels:  0.9.0\n",
      "patsy:  0.5.1\n",
      "seaborn:  0.9.0\n",
      "mlxtend:  0.15.0.0\n",
      "imblearn:  0.4.3\n",
      "nltk:  3.4\n",
      "tweepy:  3.7.0\n",
      "gensim:  3.4.0\n"
     ]
    },
    {
     "name": "stderr",
     "output_type": "stream",
     "text": [
      "Using TensorFlow backend.\n"
     ]
    },
    {
     "name": "stdout",
     "output_type": "stream",
     "text": [
      "keras:  2.2.4\n",
      "tensorflow:  1.13.1\n",
      "theano:  1.0.4\n"
     ]
    }
   ],
   "source": [
    "# Run the code to get your package version numbers\n",
    "\n",
    "import numpy; print (\"numpy: \", numpy.__version__)\n",
    "import pandas; print (\"pandas: \", pandas.__version__)\n",
    "import matplotlib; print (\"matplotlib: \", matplotlib.__version__)\n",
    "import IPython; print (\"IPython: \", IPython.__version__)\n",
    "import sklearn; print (\"sklearn: \", sklearn.__version__)\n",
    "import scipy; print (\"scipy: \", scipy.__version__)\n",
    "\n",
    "import pydot; print (\"pydot: \", pydot.__version__)\n",
    "import statsmodels; print (\"statsmodels: \", statsmodels.__version__)\n",
    "import patsy; print (\"patsy: \", patsy.__version__)\n",
    "import seaborn; print (\"seaborn: \", seaborn.__version__)\n",
    "import mlxtend; print (\"mlxtend: \", mlxtend.__version__)\n",
    "import imblearn; print (\"imblearn: \", imblearn.__version__)\n",
    "import nltk; print (\"nltk: \", nltk.__version__)\n",
    "\n",
    "import tweepy; print (\"tweepy: \", tweepy.__version__)\n",
    "import gensim; print (\"gensim: \", gensim.__version__)\n",
    "import keras; print (\"keras: \", keras.__version__)\n",
    "import tensorflow; print (\"tensorflow: \", tensorflow.__version__)\n",
    "import theano; print (\"theano: \", theano.__version__)"
   ]
  }
 ],
 "metadata": {
  "anaconda-cloud": {},
  "kernelspec": {
   "display_name": "Python 3",
   "language": "python",
   "name": "python3"
  },
  "language_info": {
   "codemirror_mode": {
    "name": "ipython",
    "version": 3
   },
   "file_extension": ".py",
   "mimetype": "text/x-python",
   "name": "python",
   "nbconvert_exporter": "python",
   "pygments_lexer": "ipython3",
   "version": "3.7.1"
  }
 },
 "nbformat": 4,
 "nbformat_minor": 1
}
