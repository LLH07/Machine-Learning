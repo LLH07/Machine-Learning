{
 "cells": [
  {
   "cell_type": "markdown",
   "metadata": {},
   "source": [
    "### Determining Optimal Probability Cutoff\n",
    "\n",
    "Predicted proabability is a number between 0 and 1. Traditionally >.5 is the cutoff point used for converting predicted proabability to 1 (positive) otherwise 0 (negative). This logic works well when your training data set has equal example of positive and negative cases, however this is not the case in real world scenarios. \n",
    "\n",
    "#### Solution:\n",
    "The solution is to find the optimal cut off point, that is the point where true positive rate is high and the false positive rate is low. Anything above this threold can be labeled as 1 else 0. Let's understand this better with an example. \n",
    "\n",
    "#### Dataset\n",
    "\n",
    "We'll be using the dataset from the UCI repository, dataset \"Pima Indian diabetes\": \n",
    "2 classes, 8 attributes, 768 instances, 500 (65.1%) negative (class1), and 268 (34.9%) positive tests for diabetes. class2. \n",
    "All patients were females at least 21 years old of Pima Indian heritage.\n",
    "\n",
    "Attributes used: \n",
    "1. Number of times pregnant \n",
    "2. Plasma glucose concentration a 2 hours in an oral glucose tolerance test \n",
    "3. Diastolic blood pressure (mm Hg) \n",
    "4. Triceps skin fold thickness (mm) \n",
    "5. 2-Hour serum insulin (mu U/ml) \n",
    "6. Body mass index (weight in kg/(height in m)^2) \n",
    "7. Diabetes pedigree function \n",
    "8. Age (years)"
   ]
  },
  {
   "cell_type": "code",
   "execution_count": 1,
   "metadata": {},
   "outputs": [],
   "source": [
    "import pandas as pd\n",
    "import pylab as plt\n",
    "import numpy as np\n",
    "\n",
    "from sklearn.model_selection import train_test_split\n",
    "from sklearn.linear_model import LogisticRegression\n",
    "from sklearn import metrics\n",
    "\n",
    "import warnings\n",
    "warnings.filterwarnings(\"ignore\", category=FutureWarning)"
   ]
  },
  {
   "cell_type": "code",
   "execution_count": 2,
   "metadata": {},
   "outputs": [
    {
     "name": "stdout",
     "output_type": "stream",
     "text": [
      "0    0.651042\n",
      "1    0.348958\n",
      "Name: class, dtype: float64\n"
     ]
    }
   ],
   "source": [
    "# read the data in\n",
    "df = pd.read_csv(\"Data/Diabetes.csv\")\n",
    "df.head()\n",
    "\n",
    "# target variable % distribution\n",
    "print (df['class'].value_counts(normalize=True))\n",
    "\n",
    "X = df.iloc[:,:8]     # independent variables\n",
    "y = df['class']     # dependent variables"
   ]
  },
  {
   "cell_type": "code",
   "execution_count": 8,
   "metadata": {},
   "outputs": [
    {
     "name": "stdout",
     "output_type": "stream",
     "text": [
      "Accuracy:  0.7672253258845437\n"
     ]
    }
   ],
   "source": [
    "# evaluate the model by splitting into train and test sets\n",
    "X_train, X_test, y_train, y_test = train_test_split(X, y, test_size=0.3, random_state=0)\n",
    "\n",
    "# instantiate a logistic regression model, and fit \n",
    "model = LogisticRegression()\n",
    "model = model.fit(X_train, y_train)\n",
    "\n",
    "# predict class labels for the train set. The predict fuction converts probability values > .5 to 1 else 0\n",
    "y_pred = model.predict(X_train)\n",
    "\n",
    "# generate class probabilities \n",
    "# Notice that 2 elements will be returned in probs array, \n",
    "# 1st element is probability for negative class,\n",
    "# 2nd element gives probability for positive class\n",
    "probs = model.predict_proba(X_train)\n",
    "y_pred_prob = probs[:, 1]\n",
    "\n",
    "# generate evaluation metrics\n",
    "print (\"Accuracy: \", metrics.accuracy_score(y_train, y_pred))"
   ]
  },
  {
   "cell_type": "markdown",
   "metadata": {},
   "source": [
    "The optimal cut off would be where tpr is high and fpr is low, and tpr - (1-fpr) is zero or near to zero"
   ]
  },
  {
   "cell_type": "code",
   "execution_count": 9,
   "metadata": {},
   "outputs": [
    {
     "name": "stdout",
     "output_type": "stream",
     "text": [
      "Area under the ROC curve : 0.833293\n"
     ]
    },
    {
     "data": {
      "image/png": "[encoded data removed]",
      "text/plain": [
       "<Figure size 432x288 with 1 Axes>"
      ]
     },
     "metadata": {
      "needs_background": "light"
     },
     "output_type": "display_data"
    }
   ],
   "source": [
    "# extract false positive, true positive rate\n",
    "fpr, tpr, thresholds = metrics.roc_curve(y_train, y_pred_prob)\n",
    "roc_auc = metrics.auc(fpr, tpr)\n",
    "print (\"Area under the ROC curve : %f\" % roc_auc)\n",
    "\n",
    "i = np.arange(len(tpr)) # index for df\n",
    "roc = pd.DataFrame({'fpr' : pd.Series(fpr, index=i),'tpr' : pd.Series(tpr, index = i), \n",
    "                    '1-fpr' : pd.Series(1-fpr, index = i), 'tf' : pd.Series(tpr - (1-fpr), index = i), \n",
    "                    'thresholds' : pd.Series(thresholds, index = i)})\n",
    "roc.iloc[(roc.tf-0).abs().argsort()[:1]]\n",
    "\n",
    "# Plot tpr vs 1-fpr\n",
    "fig, ax = plt.subplots()\n",
    "plt.plot(roc['tpr'], label='tpr')\n",
    "plt.plot(roc['1-fpr'], color = 'red', label='1-fpr')\n",
    "plt.legend(loc='best')\n",
    "plt.xlabel('1-False Positive Rate')\n",
    "plt.ylabel('True Positive Rate')\n",
    "plt.title('Receiver operating characteristic')\n",
    "plt.show()"
   ]
  },
  {
   "cell_type": "markdown",
   "metadata": {},
   "source": [
    "To simplify finding optimal probability threshold and bring in re-usability, I have made a function to find the optimal probability cutoff point."
   ]
  },
  {
   "cell_type": "code",
   "execution_count": 10,
   "metadata": {},
   "outputs": [],
   "source": [
    "def Find_Optimal_Cutoff(target, predicted):\n",
    "    \"\"\" Find the optimal probability cutoff point for a classification model related to the event rate\n",
    "    Parameters\n",
    "    ----------\n",
    "    target : Matrix with dependent or target data, where rows are observations\n",
    "\n",
    "    predicted : Matrix with predicted data, where rows are observations\n",
    "\n",
    "    Returns\n",
    "    -------     \n",
    "    list type, with optimal cutoff value\n",
    "\n",
    "    \"\"\"\n",
    "    fpr, tpr, threshold = metrics.roc_curve(target, predicted)\n",
    "    i = np.arange(len(tpr)) \n",
    "    roc = pd.DataFrame({'tf' : pd.Series(tpr-(1-fpr), index=i), 'threshold' : pd.Series(threshold, index=i)})\n",
    "    roc_t = roc.iloc[(roc.tf-0).abs().argsort()[:1]]\n",
    "\n",
    "    return list(roc_t['threshold']) "
   ]
  },
  {
   "cell_type": "code",
   "execution_count": 13,
   "metadata": {},
   "outputs": [
    {
     "name": "stdout",
     "output_type": "stream",
     "text": [
      "Optimal Probability Threshold:  [0.36102032344141777]\n",
      "\n",
      "Normal - Accuracy:  0.7672253258845437\n",
      "Optimal Cutoff - Accuracy:  0.7579143389199255\n",
      "\n",
      "Normal - Confusion Matrix: \n",
      " [[303  40]\n",
      " [ 85 109]]\n",
      "Optimal - Cutoff Confusion Matrix: \n",
      " [[260  83]\n",
      " [ 47 147]]\n"
     ]
    }
   ],
   "source": [
    "# Find optimal probability threshold\n",
    "# Note: probs[:, 1] will have the probability of being a positive label\n",
    "threshold = Find_Optimal_Cutoff(y_train, probs[:, 1])\n",
    "print (\"Optimal Probability Threshold: \", threshold)\n",
    "\n",
    "# Applying the threshold to the prediction probability\n",
    "y_pred_optimal = np.where(y_pred_prob >= threshold, 1, 0)\n",
    "\n",
    "# Let's compare the accuracy of traditional/normal approach vs optimal cutoff\n",
    "print (\"\\nNormal - Accuracy: \", metrics.accuracy_score(y_train, y_pred))\n",
    "print (\"Optimal Cutoff - Accuracy: \", metrics.accuracy_score(y_train, y_pred_optimal))\n",
    "print (\"\\nNormal - Confusion Matrix: \\n\", metrics.confusion_matrix(y_train, y_pred))\n",
    "print (\"Optimal - Cutoff Confusion Matrix: \\n\", metrics.confusion_matrix(y_train, y_pred_optimal))"
   ]
  },
  {
   "cell_type": "markdown",
   "metadata": {},
   "source": [
    "Notice that there is no significant difference in overall accuracy between normal vs. optimal cutoff method, both are 76%. However there is 36% increase in true positive rate in optimal cutoff method i.e., you are now able to capture 36% more positive cases as positive, also the false positive has doubled i..e, probability of predicting an individual not having diabetes as positive has increase.\n",
    "\n",
    "### Which error is costly?\n",
    "\n",
    "Well, there is no one answer for this questoin! It depends on the domain, problem that you are trying to address and the business requirement. In our case comparatively type II error might be more damaging than type I error."
   ]
  },
  {
   "cell_type": "code",
   "execution_count": 12,
   "metadata": {},
   "outputs": [
    {
     "data": {
      "image/png": "[encoded data removed]",
      "text/plain": [
       "<IPython.core.display.Image object>"
      ]
     },
     "execution_count": 12,
     "metadata": {
      "image/png": {
       "width": 500
      }
     },
     "output_type": "execute_result"
    }
   ],
   "source": [
    "from IPython.display import Image\n",
    "Image(filename='../Chapter 4 Figures/Error_Type.png', width=500)"
   ]
  }
 ],
 "metadata": {
  "anaconda-cloud": {},
  "kernelspec": {
   "display_name": "Python 3",
   "language": "python",
   "name": "python3"
  },
  "language_info": {
   "codemirror_mode": {
    "name": "ipython",
    "version": 3
   },
   "file_extension": ".py",
   "mimetype": "text/x-python",
   "name": "python",
   "nbconvert_exporter": "python",
   "pygments_lexer": "ipython3",
   "version": "3.7.1"
  }
 },
 "nbformat": 4,
 "nbformat_minor": 1
}
