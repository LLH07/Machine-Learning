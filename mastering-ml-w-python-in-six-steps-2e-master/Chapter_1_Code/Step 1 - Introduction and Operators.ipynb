{
 "cells": [
  {
   "cell_type": "markdown",
   "metadata": {},
   "source": [
    "#### My First Python program"
   ]
  },
  {
   "cell_type": "code",
   "execution_count": 1,
   "metadata": {},
   "outputs": [
    {
     "name": "stdout",
     "output_type": "stream",
     "text": [
      "Hello, Python World!\n"
     ]
    }
   ],
   "source": [
    "print(\"Hello, Python World!\")"
   ]
  },
  {
   "cell_type": "markdown",
   "metadata": {},
   "source": [
    "#### Script Mode Programming:\n",
    "\n",
    "You can put the above code into a notepad, save the file with extension .py (say script.py) and run it from command line interface using below command.\n",
    "\n",
    "python script.py"
   ]
  },
  {
   "cell_type": "markdown",
   "metadata": {},
   "source": [
    "#### Python Identifier:\n",
    "\n",
    "Identifier is the name given to entities like class, functions, variables etc. in Python. It helps differentiating one entity from another.\n",
    "\n",
    "Rules for writing identifiers in Python:\n",
    "\n",
    "•\tIdentifiers can be a combination of letters in lowercase (a to z) or uppercase (A to Z) or digits (0 to 9) or an underscore (_). Names like myClass, var_1 and print_this_to_screen, all are valid example.\n",
    "•\tAn identifier cannot start with a digit. 1variable is invalid, but variable1 is perfectly fine.\n",
    "•\tKeywords cannot be used as identifiers.\n",
    "•\tWe cannot use special symbols like !, @, #, $, % etc. in our identifier"
   ]
  },
  {
   "cell_type": "code",
   "execution_count": 2,
   "metadata": {},
   "outputs": [
    {
     "ename": "SyntaxError",
     "evalue": "invalid syntax (<ipython-input-2-81f2002b32f3>, line 2)",
     "output_type": "error",
     "traceback": [
      "\u001b[1;36m  File \u001b[1;32m\"<ipython-input-2-81f2002b32f3>\"\u001b[1;36m, line \u001b[1;32m2\u001b[0m\n\u001b[1;33m    1variable = 'Identifier can not start with number'\u001b[0m\n\u001b[1;37m            ^\u001b[0m\n\u001b[1;31mSyntaxError\u001b[0m\u001b[1;31m:\u001b[0m invalid syntax\n"
     ]
    }
   ],
   "source": [
    "# variable name can not start with digit in front, 1variable will through syntax error\n",
    "1variable = 'Identifier can not start with number'"
   ]
  },
  {
   "cell_type": "code",
   "execution_count": 3,
   "metadata": {},
   "outputs": [
    {
     "ename": "SyntaxError",
     "evalue": "invalid syntax (<ipython-input-3-2930876873f6>, line 2)",
     "output_type": "error",
     "traceback": [
      "\u001b[1;36m  File \u001b[1;32m\"<ipython-input-3-2930876873f6>\"\u001b[1;36m, line \u001b[1;32m2\u001b[0m\n\u001b[1;33m    class = 1\u001b[0m\n\u001b[1;37m          ^\u001b[0m\n\u001b[1;31mSyntaxError\u001b[0m\u001b[1;31m:\u001b[0m invalid syntax\n"
     ]
    }
   ],
   "source": [
    "# using keywords as variable name will through error\n",
    "class = 1"
   ]
  },
  {
   "cell_type": "code",
   "execution_count": 4,
   "metadata": {},
   "outputs": [
    {
     "ename": "SyntaxError",
     "evalue": "can't assign to operator (<ipython-input-4-234152f0206c>, line 2)",
     "output_type": "error",
     "traceback": [
      "\u001b[1;36m  File \u001b[1;32m\"<ipython-input-4-234152f0206c>\"\u001b[1;36m, line \u001b[1;32m2\u001b[0m\n\u001b[1;33m    x@gmail = 'm.s@gmail.com'\u001b[0m\n\u001b[1;37m                             ^\u001b[0m\n\u001b[1;31mSyntaxError\u001b[0m\u001b[1;31m:\u001b[0m can't assign to operator\n"
     ]
    }
   ],
   "source": [
    "# using special symbols as variable name will through error\n",
    "x@gmail = 'm.s@gmail.com'"
   ]
  },
  {
   "cell_type": "markdown",
   "metadata": {},
   "source": [
    "#### Basic Objec Types"
   ]
  },
  {
   "cell_type": "code",
   "execution_count": 5,
   "metadata": {},
   "outputs": [
    {
     "name": "stdout",
     "output_type": "stream",
     "text": [
      "<class 'NoneType'> None\n",
      "<class 'bool'> True\n",
      "<class 'int'> 1\n",
      "<class 'float'> 3.14\n",
      "<class 'float'> 3.14\n",
      "<class 'float'> inf\n",
      "<class 'float'> nan\n",
      "<class 'complex'> (2+8j)\n",
      "<class 'str'> this is a string\n",
      "<class 'str'> also me\n",
      "<class 'tuple'> (1, True, 'ML')\n",
      "<class 'list'> [1, True, 'ML']\n",
      "<class 'set'> {1, 2, 3, 4, 5}\n",
      "<class 'dict'> {'a': 'A', 2: 'AA', True: 1, False: 0}\n"
     ]
    }
   ],
   "source": [
    "none = None # singleton null object\n",
    "boolean = bool(True)\n",
    "integer = 1\n",
    "Long = 3.14\n",
    "\n",
    "# float\n",
    "Float = 3.14\n",
    "Float_inf = float('inf')\n",
    "Float_nan = float('nan')\n",
    "\n",
    "# complex object type, note the usage of letter j\n",
    "Complex = 2+8j \n",
    "\n",
    "# string can be enclosed in single or double quote\n",
    "string = 'this is a string'\n",
    "me_also_string = \"also me\"\n",
    "\n",
    "List = [1, True, 'ML'] # Values can be changed\n",
    "\n",
    "Tuple = (1, True, 'ML') # Values can not be changed\n",
    "\n",
    "Set = set([1,2,2,2,3,4,5,5]) # Duplicates will not be stored\n",
    "\n",
    "# Use a dictionary when you have a set of unique keys that map to values\n",
    "Dictionary = {'a':'A', 2:'AA', True:1, False:0}\n",
    "\n",
    "# lets print the object type and the value\n",
    "print(type(none), none)\n",
    "print(type(boolean), boolean)\n",
    "print(type(integer), integer)\n",
    "print(type(Long), Long)\n",
    "print(type(Float), Float)\n",
    "print(type(Float_inf), Float_inf)\n",
    "print(type(Float_nan), Float_nan)\n",
    "print(type(Complex), Complex)\n",
    "print(type(string), string)\n",
    "print(type(me_also_string), me_also_string)\n",
    "print(type(Tuple), Tuple)\n",
    "print(type(List), List)\n",
    "print(type(Set), Set)\n",
    "print(type(Dictionary), Dictionary)"
   ]
  },
  {
   "cell_type": "markdown",
   "metadata": {},
   "source": [
    "#### Comments in Python\n",
    "\n",
    "•\tAll characters after the # and up to the physical line end are part of the comment and the Python interpreter ignores them\n",
    "•\tComments spanning more than one line are achieved by inserting a multi-line string (with \"\"\" as the delimiter one each end) that is not used in assignment or otherwise evaluated, but sits in between other statements"
   ]
  },
  {
   "cell_type": "code",
   "execution_count": 6,
   "metadata": {},
   "outputs": [
    {
     "name": "stdout",
     "output_type": "stream",
     "text": [
      "Hello Python World\n"
     ]
    },
    {
     "data": {
      "text/plain": [
       "' This is an example of a multi line\\ncomment that spans multiple lines.\\nEverything that is in between is considered as comments\\n'"
      ]
     },
     "execution_count": 6,
     "metadata": {},
     "output_type": "execute_result"
    }
   ],
   "source": [
    "# This is a comment in Python\n",
    "print(\"Hello Python World\") # This is also a comment in Python\n",
    "\n",
    "\"\"\" This is an example of a multi line\n",
    "comment that spans multiple lines.\n",
    "Everything that is in between is considered as comments\n",
    "\"\"\""
   ]
  },
  {
   "cell_type": "markdown",
   "metadata": {},
   "source": [
    "#### Multiple statementson a single line"
   ]
  },
  {
   "cell_type": "code",
   "execution_count": 7,
   "metadata": {},
   "outputs": [
    {
     "name": "stdout",
     "output_type": "stream",
     "text": [
      "foo\n"
     ]
    }
   ],
   "source": [
    "import sys; x = 'foo'; print(x)"
   ]
  },
  {
   "cell_type": "markdown",
   "metadata": {
    "collapsed": true
   },
   "source": [
    "##### Code Blocks\n",
    "\n"
   ]
  },
  {
   "cell_type": "code",
   "execution_count": 8,
   "metadata": {},
   "outputs": [
    {
     "name": "stdout",
     "output_type": "stream",
     "text": [
      "Programming is an important skill for Data Science\n",
      "Statistics is an imporant skill for Data Science\n",
      "Business domain knowledge is a important skill for Data Science\n",
      "x has a value of 1\n"
     ]
    }
   ],
   "source": [
    "# Correct indentation\n",
    "print (\"Programming is an important skill for Data Science\")\n",
    "print (\"Statistics is an imporant skill for Data Science\")\n",
    "print (\"Business domain knowledge is a important skill for Data Science\")\n",
    "\n",
    "# Correct indentation, note that if statement here is an example of suites\n",
    "x = 1\n",
    "if x == 1:\n",
    "    print ('x has a value of 1')\n",
    "else:\n",
    "    print ('x does NOT have a value of 1')"
   ]
  },
  {
   "cell_type": "code",
   "execution_count": 9,
   "metadata": {},
   "outputs": [
    {
     "ename": "IndentationError",
     "evalue": "unexpected indent (<ipython-input-9-863530c036aa>, line 4)",
     "output_type": "error",
     "traceback": [
      "\u001b[1;36m  File \u001b[1;32m\"<ipython-input-9-863530c036aa>\"\u001b[1;36m, line \u001b[1;32m4\u001b[0m\n\u001b[1;33m    print (\"Statistics is an important skill for Data Science\")\u001b[0m\n\u001b[1;37m    ^\u001b[0m\n\u001b[1;31mIndentationError\u001b[0m\u001b[1;31m:\u001b[0m unexpected indent\n"
     ]
    }
   ],
   "source": [
    "# incorrect indentation, program will generate a syntax error \n",
    "# due to the space character inserted at the beginning of second line\n",
    "print (\"Programming is an important skill for Data Science\")\n",
    " print (\"Statistics is an important skill for Data Science\")\n",
    "print (\"Business domain knowledge is a important skill for Data Science\")"
   ]
  },
  {
   "cell_type": "code",
   "execution_count": 10,
   "metadata": {},
   "outputs": [
    {
     "name": "stdout",
     "output_type": "stream",
     "text": [
      "x has a value of 1\n"
     ]
    }
   ],
   "source": [
    "# incorrect indentation, program will generate a syntax error\n",
    "# due to the wrong indentation in the else statement\n",
    "x = 1\n",
    "if x == 1:\n",
    "    print ('x has a value of 1')\n",
    "else:\n",
    " print ('x does NOT have a value of 1')"
   ]
  },
  {
   "cell_type": "markdown",
   "metadata": {},
   "source": [
    "#### Milti-line statements\n"
   ]
  },
  {
   "cell_type": "code",
   "execution_count": 11,
   "metadata": {},
   "outputs": [
    {
     "name": "stdout",
     "output_type": "stream",
     "text": [
      "x has a value of 1234\n",
      "y has a value of 121112\n",
      "['Monday', 'Tuesday', 'Wednesday', 'Thursday', 'Friday']\n",
      "{'Saturday', 'Sunday'}\n"
     ]
    }
   ],
   "source": [
    "# Example of implicit line continuation\n",
    "x = ('1' + '2' + \n",
    "    '3' + '4')\n",
    "\n",
    "# Example of explicit line continuation\n",
    "y = '1' + '2' + \\\n",
    "    '11' + '12'\n",
    "    \n",
    "weekdays = ['Monday', 'Tuesday', 'Wednesday', \n",
    "            'Thursday', 'Friday']\n",
    "\n",
    "weekend = {'Saturday',\n",
    "           'Sunday'}\n",
    "\n",
    "print ('x has a value of', x)\n",
    "print ('y has a value of', y)\n",
    "print (weekdays)\n",
    "print (weekend)"
   ]
  },
  {
   "cell_type": "markdown",
   "metadata": {},
   "source": [
    "#### Basic Operators"
   ]
  },
  {
   "cell_type": "markdown",
   "metadata": {},
   "source": [
    "#### Arithmetic operators\n",
    "\n",
    "Arithmetic operators are used to perform mathematical operations like addition, subtraction, multiplication etc."
   ]
  },
  {
   "cell_type": "code",
   "execution_count": 12,
   "metadata": {},
   "outputs": [
    {
     "name": "stdout",
     "output_type": "stream",
     "text": [
      "Addition, x(10) + y(5) =  15\n",
      "Subtraction, x(10) - y(5) =  5\n",
      "Multiplication, x(10) * y(5) =  50\n",
      "Division, x(10) / y(5) =  2.0\n",
      "Modulus, x(10) % y(5) =  0\n",
      "Exponent, x(10)**y(5) =  100000\n",
      "Floor Division, x(10)//y(5) =  2\n"
     ]
    }
   ],
   "source": [
    "# Variable x holds 10 and variable y holds 5\n",
    "x = 10\n",
    "y = 5\n",
    "\n",
    "# Addition\n",
    "print (\"Addition, x(10) + y(5) = \", x + y)\n",
    "\n",
    "# Subtraction\n",
    "print (\"Subtraction, x(10) - y(5) = \", x - y)\n",
    "\n",
    "# Multiplication\n",
    "print (\"Multiplication, x(10) * y(5) = \", x * y) \n",
    "\n",
    "# Division\n",
    "print (\"Division, x(10) / y(5) = \", x / y)\n",
    "\n",
    "# Modulus\n",
    "print (\"Modulus, x(10) % y(5) = \", x % y)\n",
    "\n",
    "# Exponent\n",
    "print (\"Exponent, x(10)**y(5) = \", x**y)\n",
    "\n",
    "# Integer division rounded towards minus infinity\n",
    "print (\"Floor Division, x(10)//y(5) = \", x//y)"
   ]
  },
  {
   "cell_type": "markdown",
   "metadata": {},
   "source": [
    "#### Comparison operators\n",
    "\n",
    "Comparison operators are used to compare values. It either returns True or False according to the condition."
   ]
  },
  {
   "cell_type": "code",
   "execution_count": 13,
   "metadata": {},
   "outputs": [
    {
     "name": "stdout",
     "output_type": "stream",
     "text": [
      "Equal check, x(10) == y(5)  False\n",
      "Not Equal check, x(10) != y(5)  True\n",
      "Less than check, x(10) < y(5)  False\n",
      "Greater than check, x(10) > y(5)  True\n",
      "Less than or equal to check, x(10) <= y(5)  False\n",
      "Greater than or equal to check, x(10) >= y(5)  True\n"
     ]
    }
   ],
   "source": [
    "# Variable x holds 10 and variable b holds 5\n",
    "# Equal check operation\n",
    "print (\"Equal check, x(10) == y(5) \", x == y)\n",
    "\n",
    "# Not Equal check operation\n",
    "print (\"Not Equal check, x(10) != y(5) \", x != y)\n",
    "\n",
    "# Less than check operation\n",
    "print (\"Less than check, x(10) < y(5) \", x < y)\n",
    "\n",
    "# Greater check operation\n",
    "print (\"Greater than check, x(10) > y(5) \", x > y)\n",
    "\n",
    "# Less than or equal check operation\n",
    "print (\"Less than or equal to check, x(10) <= y(5) \", x <= y)\n",
    "\n",
    "# Greater than or equal to check operation\n",
    "print (\"Greater than or equal to check, x(10) >= y(5) \", x >= y)"
   ]
  },
  {
   "cell_type": "markdown",
   "metadata": {},
   "source": [
    "#### Assignment operations\n"
   ]
  },
  {
   "cell_type": "code",
   "execution_count": 14,
   "metadata": {},
   "outputs": [
    {
     "name": "stdout",
     "output_type": "stream",
     "text": [
      "Value of a post x+=y is  15\n",
      "Value of a post x*=y is  150\n",
      "Value of a post x/=y is  15.0\n",
      "Value of a post x%=y is  5.0\n",
      "Value of x post x**=y is  9765625.0\n",
      "Value of a post x//=y is  976562.0\n"
     ]
    }
   ],
   "source": [
    "# Variable x holds 10 and variable y holds 5\n",
    "x = 5\n",
    "y = 10\n",
    "\n",
    "x += y\n",
    "print (\"Value of a post x+=y is \", x)\n",
    "\n",
    "x *= y\n",
    "print (\"Value of a post x*=y is \", x) \n",
    "\n",
    "x /= y \n",
    "print (\"Value of a post x/=y is \", x)\n",
    "\n",
    "x %= y\n",
    "print (\"Value of a post x%=y is \", x)\n",
    "\n",
    "x **= y\n",
    "print (\"Value of x post x**=y is \", x)\n",
    "\n",
    "x //= y\n",
    "print (\"Value of a post x//=y is \", x)"
   ]
  },
  {
   "cell_type": "markdown",
   "metadata": {},
   "source": [
    "#### Bitwise operations\n",
    "\n",
    "Bitwise operators act on operands as if they were string of binary digits. As the name suggest, it operates bit by bit."
   ]
  },
  {
   "cell_type": "code",
   "execution_count": 15,
   "metadata": {},
   "outputs": [
    {
     "name": "stdout",
     "output_type": "stream",
     "text": [
      "0\n",
      "160\n",
      "0\n",
      "14\n",
      "14\n",
      "-11\n"
     ]
    }
   ],
   "source": [
    "# Basic six bitwise operations\n",
    "# Let x = 10 (0000 1010 in binary) and y = 4 (0000 0100 in binary)\n",
    "x = 10\n",
    "y = 4\n",
    "\n",
    "print (x >> y)  # Right Shift\n",
    "print (x << y)  # Left Shift\n",
    "print (x & y)   # Bitwise AND\n",
    "print (x | y)   # Bitwise OR\n",
    "print (x ^ y) # Bitwise XOR\n",
    "print (~x)    # Bitwise NOT"
   ]
  },
  {
   "cell_type": "markdown",
   "metadata": {},
   "source": [
    "#### Logical operators\n",
    "\n",
    "Logical operators are the and, or, not operators."
   ]
  },
  {
   "cell_type": "code",
   "execution_count": 16,
   "metadata": {},
   "outputs": [
    {
     "name": "stdout",
     "output_type": "stream",
     "text": [
      "var1 and var2 is False\n",
      "var1 or var2 is True\n",
      "not var1 is False\n"
     ]
    }
   ],
   "source": [
    "var1 = True\n",
    "var2 = False\n",
    "print('var1 and var2 is',var1 and var2)\n",
    "print('var1 or var2 is',var1 or var2)\n",
    "print('not var1 is',not var1)"
   ]
  },
  {
   "cell_type": "markdown",
   "metadata": {},
   "source": [
    "#### Membership operators\n",
    "\n",
    "in and not in are the membership operators in Python. They are used to test whether a value or variable is found in a sequence (string, list, tuple, set and dictionary). In a dictionary we can only test for presence of key, not the value"
   ]
  },
  {
   "cell_type": "code",
   "execution_count": 17,
   "metadata": {},
   "outputs": [
    {
     "name": "stdout",
     "output_type": "stream",
     "text": [
      "True\n",
      "True\n",
      "True\n",
      "False\n"
     ]
    }
   ],
   "source": [
    "var1 = 'Hello world'          # string\n",
    "var2 = {1:'a',2:'b'}          # dictionary\n",
    "print('H' in var1)\n",
    "print('hello' not in var1)\n",
    "print(1 in var2)\n",
    "print('a' in var2)"
   ]
  },
  {
   "cell_type": "markdown",
   "metadata": {},
   "source": [
    "#### Identity operatros\n",
    "\n",
    "is and is not are the identity operators in Python. They are used to check if two values (or variables) are located on the same part of the memory. Two variables that are equal do not imply that they are identical"
   ]
  },
  {
   "cell_type": "code",
   "execution_count": 18,
   "metadata": {},
   "outputs": [
    {
     "name": "stdout",
     "output_type": "stream",
     "text": [
      "False\n",
      "True\n",
      "True\n"
     ]
    }
   ],
   "source": [
    "var1 = 5\n",
    "var1 = 5\n",
    "var2 = 'Hello'\n",
    "var2 = 'Hello'\n",
    "var3 = [1,2,3]\n",
    "var3 = [1,2,3]\n",
    "print(var1 is not var1)\n",
    "print(var2 is var2)\n",
    "print(var3 is var3)"
   ]
  },
  {
   "cell_type": "markdown",
   "metadata": {},
   "source": [
    "## Control structures¶\n",
    "\n",
    "A control structure is the basic decision-making process in computing. It is a block of programming that analyzes variables and chooses a direction in which to go based on given parameters"
   ]
  },
  {
   "cell_type": "code",
   "execution_count": 19,
   "metadata": {},
   "outputs": [
    {
     "name": "stdout",
     "output_type": "stream",
     "text": [
      "-1\n",
      "the value of var is negative\n",
      "the value of var is negative\n"
     ]
    }
   ],
   "source": [
    "var = -1\n",
    "if var < 0:\n",
    "    print (var)\n",
    "    print (\"the value of var is negative\")\n",
    "    \n",
    "# If the suite of an if clause consists only of a single line, it may go on the same line as the header statement\n",
    "if ( var  == -1 ) : print (\"the value of var is negative\")"
   ]
  },
  {
   "cell_type": "code",
   "execution_count": 20,
   "metadata": {},
   "outputs": [
    {
     "name": "stdout",
     "output_type": "stream",
     "text": [
      "the value of var is positive\n",
      "1\n"
     ]
    }
   ],
   "source": [
    "var = 1\n",
    "\n",
    "if var < 0:\n",
    "    print (\"the value of var is negative\")\n",
    "    print (var)\n",
    "else:\n",
    "    print (\"the value of var is positive\")\n",
    "    print (var)"
   ]
  },
  {
   "cell_type": "code",
   "execution_count": 21,
   "metadata": {},
   "outputs": [
    {
     "name": "stdout",
     "output_type": "stream",
     "text": [
      "B\n"
     ]
    }
   ],
   "source": [
    "score = 95\n",
    "\n",
    "if score >= 99:\n",
    "    print('A')\n",
    "elif score >=75:\n",
    "    print('B')\n",
    "elif score >= 60:\n",
    "    print('C')\n",
    "elif score >= 35:\n",
    "    print('D')\n",
    "else:\n",
    "    print('F')"
   ]
  },
  {
   "cell_type": "code",
   "execution_count": 22,
   "metadata": {},
   "outputs": [
    {
     "name": "stdout",
     "output_type": "stream",
     "text": [
      "First Example\n",
      "item : 1\n",
      "item : 2\n",
      "item : 3\n",
      "item : 4\n",
      "item : 5\n",
      "Second Example\n",
      "First loop letter : A\n",
      "First loop letter : B\n",
      "First loop letter : C\n",
      "Third Example\n",
      "First loop letter : A\n",
      "First loop letter : B\n",
      "First loop letter : C\n",
      "Fourth Example\n",
      "item : 1\n",
      "item : 2\n",
      "item : 3\n",
      "item : 4\n",
      "item : 5\n",
      "looping over item complete!\n"
     ]
    }
   ],
   "source": [
    "# First Example\n",
    "print (\"First Example\")\n",
    "for item in [1,2,3,4,5]:    \n",
    "    print ('item :', item)\n",
    "\n",
    "# Second Example    \n",
    "print (\"Second Example\")\n",
    "letters = ['A', 'B', 'C']\n",
    "for letter in letters:        \n",
    "    print ('First loop letter :', letter)\n",
    "\n",
    "# Third Example - Iterating by sequency index\n",
    "print (\"Third Example\")\n",
    "for index in range(len(letters)):\n",
    "    print ('First loop letter :', letters[index])\n",
    "\n",
    "# Fourth Example - Using else statement\n",
    "print (\"Fourth Example\")\n",
    "for item in [1,2,3,4,5]:    \n",
    "    print ('item :', item)    \n",
    "else:\n",
    "    print ('looping over item complete!')"
   ]
  },
  {
   "cell_type": "code",
   "execution_count": 23,
   "metadata": {},
   "outputs": [
    {
     "name": "stdout",
     "output_type": "stream",
     "text": [
      "The count is: 0\n",
      "The count is: 1\n",
      "The count is: 2\n",
      "The count is: 3\n",
      "The count is: 4\n"
     ]
    }
   ],
   "source": [
    "count = 0\n",
    "while (count < 5):\n",
    "    print ('The count is:', count)\n",
    "    count = count + 1"
   ]
  },
  {
   "cell_type": "code",
   "execution_count": 24,
   "metadata": {},
   "outputs": [
    {
     "name": "stdout",
     "output_type": "stream",
     "text": [
      "0  is  less than 5\n",
      "1  is  less than 5\n",
      "2  is  less than 5\n",
      "3  is  less than 5\n",
      "4  is  less than 5\n",
      "5  is not less than 5\n"
     ]
    }
   ],
   "source": [
    "count = 0\n",
    "while count < 5:\n",
    "    print (count, \" is  less than 5\")\n",
    "    count = count + 1\n",
    "else:\n",
    "    print (count, \" is not less than 5\")"
   ]
  },
  {
   "cell_type": "code",
   "execution_count": 25,
   "metadata": {},
   "outputs": [
    {
     "name": "stdout",
     "output_type": "stream",
     "text": [
      "3\n"
     ]
    }
   ],
   "source": [
    "# simple function to add two numbers\n",
    "def sum_two_numbers(a, b):\n",
    "    return a + b\n",
    "\n",
    "# after this line x will hold the value 3!\n",
    "x = sum_two_numbers(1,2)\n",
    "print (x)"
   ]
  },
  {
   "cell_type": "code",
   "execution_count": 26,
   "metadata": {},
   "outputs": [
    {
     "name": "stdout",
     "output_type": "stream",
     "text": [
      "20\n",
      "15\n"
     ]
    }
   ],
   "source": [
    "def sum_two_numbers(a, b = 10):\n",
    "    return a + b\n",
    "\n",
    "print (sum_two_numbers(10))\n",
    "print (sum_two_numbers(10, 5))"
   ]
  },
  {
   "cell_type": "code",
   "execution_count": 27,
   "metadata": {},
   "outputs": [
    {
     "name": "stdout",
     "output_type": "stream",
     "text": [
      "1\n",
      "2\n",
      "3\n"
     ]
    }
   ],
   "source": [
    "def foo(*args):\n",
    "    for a in args:\n",
    "        print (a)\n",
    "\n",
    "foo(1,2,3)        "
   ]
  },
  {
   "cell_type": "code",
   "execution_count": 28,
   "metadata": {},
   "outputs": [
    {
     "name": "stdout",
     "output_type": "stream",
     "text": [
      "name one\n",
      "age 27\n"
     ]
    }
   ],
   "source": [
    "def bar(**kwargs):\n",
    "    for a in kwargs:\n",
    "        print (a, kwargs[a])\n",
    "        \n",
    "bar(name='one', age=27)"
   ]
  },
  {
   "cell_type": "markdown",
   "metadata": {},
   "source": [
    "### Module\n",
    "\n",
    "A module is a logically organized multiple independent but related set of codes or functions or classes. The key principle behind module creating is it's easier to understand, use and efficient maintainability.\n",
    "\n",
    "When you import a module, it's loaded only once, regardless of the number of times it is imported. You can also import specific elements (functions, classes etc) from your module into the current namespace. "
   ]
  },
  {
   "cell_type": "code",
   "execution_count": 29,
   "metadata": {},
   "outputs": [],
   "source": [
    "# Import all functions from a module\n",
    "import os                         # Method 1\n",
    "from os import *                  # Method 2"
   ]
  },
  {
   "cell_type": "code",
   "execution_count": 30,
   "metadata": {},
   "outputs": [],
   "source": [
    "# Import a function named abc from the module os\n",
    "from os import abc"
   ]
  },
  {
   "cell_type": "markdown",
   "metadata": {},
   "source": [
    "dir() is a built-in function of module os, running this will return a sorted list of strings containing the names of all the modules, variables and functions that are defined in a module"
   ]
  },
  {
   "cell_type": "code",
   "execution_count": 31,
   "metadata": {},
   "outputs": [
    {
     "name": "stdout",
     "output_type": "stream",
     "text": [
      "['DirEntry', 'F_OK', 'MutableMapping', 'O_APPEND', 'O_BINARY', 'O_CREAT', 'O_EXCL', 'O_NOINHERIT', 'O_RANDOM', 'O_RDONLY', 'O_RDWR', 'O_SEQUENTIAL', 'O_SHORT_LIVED', 'O_TEMPORARY', 'O_TEXT', 'O_TRUNC', 'O_WRONLY', 'P_DETACH', 'P_NOWAIT', 'P_NOWAITO', 'P_OVERLAY', 'P_WAIT', 'PathLike', 'R_OK', 'SEEK_CUR', 'SEEK_END', 'SEEK_SET', 'TMP_MAX', 'W_OK', 'X_OK', '_Environ', '__all__', '__builtins__', '__cached__', '__doc__', '__file__', '__loader__', '__name__', '__package__', '__spec__', '_execvpe', '_exists', '_exit', '_fspath', '_get_exports_list', '_putenv', '_unsetenv', '_wrap_close', 'abc', 'abort', 'access', 'altsep', 'chdir', 'chmod', 'close', 'closerange', 'cpu_count', 'curdir', 'defpath', 'device_encoding', 'devnull', 'dup', 'dup2', 'environ', 'error', 'execl', 'execle', 'execlp', 'execlpe', 'execv', 'execve', 'execvp', 'execvpe', 'extsep', 'fdopen', 'fsdecode', 'fsencode', 'fspath', 'fstat', 'fsync', 'ftruncate', 'get_exec_path', 'get_handle_inheritable', 'get_inheritable', 'get_terminal_size', 'getcwd', 'getcwdb', 'getenv', 'getlogin', 'getpid', 'getppid', 'isatty', 'kill', 'linesep', 'link', 'listdir', 'lseek', 'lstat', 'makedirs', 'mkdir', 'name', 'open', 'pardir', 'path', 'pathsep', 'pipe', 'popen', 'putenv', 'read', 'readlink', 'remove', 'removedirs', 'rename', 'renames', 'replace', 'rmdir', 'scandir', 'sep', 'set_handle_inheritable', 'set_inheritable', 'spawnl', 'spawnle', 'spawnv', 'spawnve', 'st', 'startfile', 'stat', 'stat_result', 'statvfs_result', 'strerror', 'supports_bytes_environ', 'supports_dir_fd', 'supports_effective_ids', 'supports_fd', 'supports_follow_symlinks', 'symlink', 'sys', 'system', 'terminal_size', 'times', 'times_result', 'truncate', 'umask', 'uname_result', 'unlink', 'urandom', 'utime', 'waitpid', 'walk', 'write']\n"
     ]
    }
   ],
   "source": [
    "import os\n",
    "\n",
    "content = dir(os)\n",
    "\n",
    "print (content)"
   ]
  }
 ],
 "metadata": {
  "anaconda-cloud": {},
  "kernelspec": {
   "display_name": "Python 3",
   "language": "python",
   "name": "python3"
  },
  "language_info": {
   "codemirror_mode": {
    "name": "ipython",
    "version": 3
   },
   "file_extension": ".py",
   "mimetype": "text/x-python",
   "name": "python",
   "nbconvert_exporter": "python",
   "pygments_lexer": "ipython3",
   "version": "3.7.1"
  }
 },
 "nbformat": 4,
 "nbformat_minor": 1
}
